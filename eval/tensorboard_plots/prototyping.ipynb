{
 "cells": [
  {
   "cell_type": "code",
   "execution_count": 2,
   "id": "eddd20a1",
   "metadata": {},
   "outputs": [],
   "source": [
    "import numpy as np \n",
    "import matplotlib.pyplot  as plt\n",
    "from mpl_toolkits.mplot3d import Axes3D\n",
    "from mpl_toolkits.mplot3d.art3d import Poly3DCollection\n",
    "import os\n",
    "import pandas as pd\n",
    "from scipy import interpolate\n",
    "%matplotlib notebook "
   ]
  },
  {
   "cell_type": "code",
   "execution_count": 6,
   "id": "fddc510f",
   "metadata": {},
   "outputs": [],
   "source": [
    "arr = np.linspace(1, 100, 100, endpoint=True)"
   ]
  },
  {
   "cell_type": "code",
   "execution_count": 14,
   "id": "c69530e3",
   "metadata": {},
   "outputs": [
    {
     "name": "stdout",
     "output_type": "stream",
     "text": [
      "3 34\n"
     ]
    }
   ],
   "source": [
    "max_el = 66\n",
    "diff = len(arr) - max_el\n",
    "n = int(round(len(arr) / diff,0))\n",
    "print(n,diff)"
   ]
  },
  {
   "cell_type": "code",
   "execution_count": 25,
   "id": "83f7cbb9",
   "metadata": {},
   "outputs": [
    {
     "name": "stdout",
     "output_type": "stream",
     "text": [
      "33\n"
     ]
    },
    {
     "ename": "AttributeError",
     "evalue": "'numpy.ndarray' object has no attribute 'append'",
     "output_type": "error",
     "traceback": [
      "\u001b[0;31m---------------------------------------------------------------------------\u001b[0m",
      "\u001b[0;31mAttributeError\u001b[0m                            Traceback (most recent call last)",
      "Input \u001b[0;32mIn [25]\u001b[0m, in \u001b[0;36m<cell line: 3>\u001b[0;34m()\u001b[0m\n\u001b[1;32m      1\u001b[0m idx \u001b[38;5;241m=\u001b[39m np\u001b[38;5;241m.\u001b[39marange(\u001b[38;5;241m1\u001b[39m, arr\u001b[38;5;241m.\u001b[39msize\u001b[38;5;241m-\u001b[39m\u001b[38;5;241m1\u001b[39m, n)\n\u001b[1;32m      2\u001b[0m \u001b[38;5;28mprint\u001b[39m(\u001b[38;5;28mlen\u001b[39m(idx))\n\u001b[0;32m----> 3\u001b[0m \u001b[43midx\u001b[49m\u001b[38;5;241;43m.\u001b[39;49m\u001b[43mappend\u001b[49m(\u001b[38;5;241m2\u001b[39m)\n",
      "\u001b[0;31mAttributeError\u001b[0m: 'numpy.ndarray' object has no attribute 'append'"
     ]
    }
   ],
   "source": [
    "idx = np.arange(1, arr.size-1, n)\n",
    "print(len(idx))\n",
    "np.append()"
   ]
  },
  {
   "cell_type": "code",
   "execution_count": 22,
   "id": "60da827f",
   "metadata": {},
   "outputs": [
    {
     "data": {
      "text/plain": [
       "array([  1.,   3.,   4.,   6.,   7.,   9.,  10.,  12.,  13.,  15.,  16.,\n",
       "        18.,  19.,  21.,  22.,  24.,  25.,  27.,  28.,  30.,  31.,  33.,\n",
       "        34.,  36.,  37.,  39.,  40.,  42.,  43.,  45.,  46.,  48.,  49.,\n",
       "        51.,  52.,  54.,  55.,  57.,  58.,  60.,  61.,  63.,  64.,  66.,\n",
       "        67.,  69.,  70.,  72.,  73.,  75.,  76.,  78.,  79.,  81.,  82.,\n",
       "        84.,  85.,  87.,  88.,  90.,  91.,  93.,  94.,  96.,  97.,  99.,\n",
       "       100.])"
      ]
     },
     "execution_count": 22,
     "metadata": {},
     "output_type": "execute_result"
    }
   ],
   "source": [
    "modified_trj = np.delete(arr, idx)\n",
    "modified_trj"
   ]
  },
  {
   "cell_type": "code",
   "execution_count": 23,
   "id": "8f834944",
   "metadata": {},
   "outputs": [
    {
     "data": {
      "text/plain": [
       "67"
      ]
     },
     "execution_count": 23,
     "metadata": {},
     "output_type": "execute_result"
    }
   ],
   "source": [
    "len(modified_trj)"
   ]
  },
  {
   "cell_type": "code",
   "execution_count": null,
   "id": "34d2ce31",
   "metadata": {},
   "outputs": [],
   "source": []
  }
 ],
 "metadata": {
  "kernelspec": {
   "display_name": "Python 3 (ipykernel)",
   "language": "python",
   "name": "python3"
  },
  "language_info": {
   "codemirror_mode": {
    "name": "ipython",
    "version": 3
   },
   "file_extension": ".py",
   "mimetype": "text/x-python",
   "name": "python",
   "nbconvert_exporter": "python",
   "pygments_lexer": "ipython3",
   "version": "3.8.10"
  }
 },
 "nbformat": 4,
 "nbformat_minor": 5
}
